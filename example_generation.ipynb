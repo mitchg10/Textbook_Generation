{
 "cells": [
  {
   "cell_type": "code",
   "execution_count": 2,
   "metadata": {},
   "outputs": [
    {
     "name": "stdout",
     "output_type": "stream",
     "text": [
      "Note: you may need to restart the kernel to use updated packages.\n"
     ]
    }
   ],
   "source": [
    "%pip install -q -r requirements.txt"
   ]
  },
  {
   "cell_type": "markdown",
   "metadata": {},
   "source": [
    "## Import data"
   ]
  },
  {
   "cell_type": "code",
   "execution_count": 3,
   "metadata": {},
   "outputs": [
    {
     "name": "stderr",
     "output_type": "stream",
     "text": [
      "/Users/mitchellgerhardt/anaconda3/lib/python3.11/site-packages/pandas/core/arrays/masked.py:60: UserWarning: Pandas requires version '1.3.6' or newer of 'bottleneck' (version '1.3.5' currently installed).\n",
      "  from pandas.core import (\n"
     ]
    }
   ],
   "source": [
    "import pandas as pd\n",
    "\n",
    "all_codes = pd.read_csv('./data/compatible_knowledge.csv')\n",
    "\n",
    "knowledge_types = pd.read_csv('./data/knowledge_types.csv')"
   ]
  },
  {
   "cell_type": "code",
   "execution_count": 4,
   "metadata": {},
   "outputs": [
    {
     "data": {
      "text/html": [
       "<div>\n",
       "<style scoped>\n",
       "    .dataframe tbody tr th:only-of-type {\n",
       "        vertical-align: middle;\n",
       "    }\n",
       "\n",
       "    .dataframe tbody tr th {\n",
       "        vertical-align: top;\n",
       "    }\n",
       "\n",
       "    .dataframe thead th {\n",
       "        text-align: right;\n",
       "    }\n",
       "</style>\n",
       "<table border=\"1\" class=\"dataframe\">\n",
       "  <thead>\n",
       "    <tr style=\"text-align: right;\">\n",
       "      <th></th>\n",
       "      <th>Course</th>\n",
       "      <th>Textbook</th>\n",
       "    </tr>\n",
       "  </thead>\n",
       "  <tbody>\n",
       "    <tr>\n",
       "      <th>0</th>\n",
       "      <td>CS 1114 – Intro to Software Design</td>\n",
       "      <td>OpenDSA CS 1114 Online Textbook – Intro to Sof...</td>\n",
       "    </tr>\n",
       "    <tr>\n",
       "      <th>1</th>\n",
       "      <td>CS 2114 – Software Design &amp; Data Structures</td>\n",
       "      <td>OpenDSA CS 2114 Online Textbook – Software Des...</td>\n",
       "    </tr>\n",
       "    <tr>\n",
       "      <th>2</th>\n",
       "      <td>CS 2104 – Intro to Problem-Solving for CS</td>\n",
       "      <td>Whimbey, A., Lochhead, J., &amp; Narode, R. (2013)...</td>\n",
       "    </tr>\n",
       "    <tr>\n",
       "      <th>3</th>\n",
       "      <td>CS 2505 – Intro to Computer Organization I</td>\n",
       "      <td>Patt, Y. N., &amp; Patel, S. J. (2004). Introducti...</td>\n",
       "    </tr>\n",
       "    <tr>\n",
       "      <th>4</th>\n",
       "      <td>CS 2506 – Intro to Computer Organization II</td>\n",
       "      <td>Patterson, D. A., &amp; Hennessy, J. L. (2021). Co...</td>\n",
       "    </tr>\n",
       "  </tbody>\n",
       "</table>\n",
       "</div>"
      ],
      "text/plain": [
       "                                        Course  \\\n",
       "0           CS 1114 – Intro to Software Design   \n",
       "1  CS 2114 – Software Design & Data Structures   \n",
       "2    CS 2104 – Intro to Problem-Solving for CS   \n",
       "3   CS 2505 – Intro to Computer Organization I   \n",
       "4  CS 2506 – Intro to Computer Organization II   \n",
       "\n",
       "                                            Textbook  \n",
       "0  OpenDSA CS 1114 Online Textbook – Intro to Sof...  \n",
       "1  OpenDSA CS 2114 Online Textbook – Software Des...  \n",
       "2  Whimbey, A., Lochhead, J., & Narode, R. (2013)...  \n",
       "3  Patt, Y. N., & Patel, S. J. (2004). Introducti...  \n",
       "4  Patterson, D. A., & Hennessy, J. L. (2021). Co...  "
      ]
     },
     "execution_count": 4,
     "metadata": {},
     "output_type": "execute_result"
    }
   ],
   "source": [
    "# Read in the courses\n",
    "courses = pd.read_csv('./data/courses.csv')\n",
    "courses.head()"
   ]
  },
  {
   "cell_type": "code",
   "execution_count": 5,
   "metadata": {},
   "outputs": [
    {
     "data": {
      "text/plain": [
       "'You are an expert engineering educator with extensive experience in curriculum design across various engineering disciplines. Your task is to generate a realistic textbook-style excerpt that exemplify one or more specific types of knowledge within a given engineering subject and topic. Your output will be in JSON format for easy parsing and processing.\\nUse the following inputs to guide your content generation:\\nSubject: {subject}\\nTopic: {topic}\\nKnowledge Types:\\n{knowledge_types}\\nCreate a textbook-like excerpt of approximately 100-150 words that demonstrates one or more of the specified knowledge types within the context of the given subject and topic. The excerpt should be substantive and realistic, as if taken from an actual engineering textbook.\\nGuidelines for creating the excerpts:\\n1. Ensure that each excerpt clearly represents at least one of the specified knowledge types, but may include multiple types if appropriate.\\n2. Maintain authenticity by using appropriate technical language and concepts relevant to the subject and topic.\\n3. Vary the writing style, specific content focus, and number of knowledge types represented across examples to provide diversity in the training data.\\n4. Include relevant details such as theories, equations, or real-world applications as appropriate for the knowledge type(s).\\n5. Avoid explicitly stating the knowledge type(s) or using the exact wording of the definition(s) in the text.\\nFormat your response as a JSON object with the following structure:\\n{{\\n  \"subject\": \"{subject}\",\\n  \"topic\": \"{topic}\",\\n  \"example\": \"[Insert 100-150 word excerpt here]\"\\n}}\\nEnsure that your output is valid JSON. Escape any special characters within the text fields as necessary.'"
      ]
     },
     "execution_count": 5,
     "metadata": {},
     "output_type": "execute_result"
    }
   ],
   "source": [
    "# Read in the prompt template\n",
    "prompt_template = ''\n",
    "with open('./prompts/generate_example_1.txt', 'r') as f:\n",
    "    prompt_template = f.read()\n",
    "prompt_template"
   ]
  },
  {
   "cell_type": "code",
   "execution_count": 21,
   "metadata": {},
   "outputs": [],
   "source": [
    "# MODEL = 'gemma:7b'\n",
    "# MODEL = 'gemma:2b'\n",
    "MODEL = 'qwen2.5:7b'"
   ]
  },
  {
   "cell_type": "code",
   "execution_count": 22,
   "metadata": {},
   "outputs": [],
   "source": [
    "import ollama\n",
    "\n",
    "def generate_response(prompt):\n",
    "    \"\"\"\n",
    "    Generate a response from the model given a prompt\n",
    "\n",
    "    Args:\n",
    "    prompt (str): The prompt to send to the model\n",
    "\n",
    "    Returns:\n",
    "    str: The response from the model\n",
    "    \"\"\"\n",
    "    response = ollama.chat(model=MODEL, messages=[\n",
    "    {\n",
    "        'role': 'user',\n",
    "        'content': prompt,\n",
    "        'format': \"json\"\n",
    "    },\n",
    "    ])\n",
    "    return response"
   ]
  },
  {
   "cell_type": "markdown",
   "metadata": {},
   "source": [
    "## Setup"
   ]
  },
  {
   "cell_type": "code",
   "execution_count": 7,
   "metadata": {},
   "outputs": [],
   "source": [
    "# Define the generate_prompt function\n",
    "def generate_prompt(subject, topic, codes):\n",
    "    codes = codes[0]\n",
    "    parts = [part.strip() for part in codes.split(',')]\n",
    "    output = ''\n",
    "    for i, part in enumerate(parts):\n",
    "        output += f'<CODE{i+1}>{part}</CODE{i+1}>\\n'\n",
    "        definition = knowledge_types[knowledge_types['Abbrev'] == part]['Definition'].values[0]\n",
    "        output += f'<DEF{i+1}>{definition}</DEF{i+1}>\\n'\n",
    "    prompt = prompt_template.format(subject=subject, topic=topic, knowledge_types=output)\n",
    "    return prompt"
   ]
  },
  {
   "cell_type": "code",
   "execution_count": 8,
   "metadata": {},
   "outputs": [],
   "source": [
    "import json\n",
    "\n",
    "def extract_examples(response):\n",
    "    \"\"\"\n",
    "    Extracts the \"examples\" array from the JSON content in response['message']['content'].\n",
    "\n",
    "    Args:\n",
    "        response (dict): The response dictionary containing the JSON content.\n",
    "\n",
    "    Returns:\n",
    "        list: A list of examples if found, otherwise an empty list.\n",
    "    \"\"\"\n",
    "    response_text = response['message']['content']\n",
    "    # response_text = response_text.replace('```json', '').replace('```', '')\n",
    "\n",
    "    # Check if response_text is not empty\n",
    "    if response_text:\n",
    "        try:\n",
    "            # Parse the JSON content\n",
    "            parsed_content = json.loads(response_text)\n",
    "            return parsed_content['example']\n",
    "        except json.JSONDecodeError as e:\n",
    "            print(f\"JSON decoding failed: {e}\")\n",
    "            return []\n",
    "    else:\n",
    "        print(\"Response content is empty\")\n",
    "        return []"
   ]
  },
  {
   "cell_type": "markdown",
   "metadata": {},
   "source": [
    "## Main"
   ]
  },
  {
   "cell_type": "code",
   "execution_count": 9,
   "metadata": {},
   "outputs": [],
   "source": [
    "all_codes_list = list(all_codes.itertuples(index=False, name=None))"
   ]
  },
  {
   "cell_type": "code",
   "execution_count": 10,
   "metadata": {},
   "outputs": [],
   "source": [
    "import time\n",
    "import random\n",
    "\n",
    "def generate_examples_not_parallel(subject, topic, n_gen):\n",
    "    generated_examples = []\n",
    "    start_time = time.time()\n",
    "\n",
    "    for i in range(n_gen):\n",
    "        selected_codes = random.choice(all_codes_list)\n",
    "        prompt = generate_prompt(subject, topic, selected_codes)\n",
    "        response = generate_response(prompt)\n",
    "        example = extract_examples(response)\n",
    "        generated_examples.append({\n",
    "            'Subject': subject,\n",
    "            'Topic': topic,\n",
    "            'Example': example,\n",
    "            'Codes': selected_codes[0]\n",
    "        })\n",
    "\n",
    "    elapsed_time = time.time() - start_time\n",
    "    print(f\"Elapsed time: {elapsed_time:.2f} seconds; {elapsed_time / 60:.2f} minutes for {n_gen} examples\")\n",
    "\n",
    "    return generated_examples"
   ]
  },
  {
   "cell_type": "code",
   "execution_count": 11,
   "metadata": {},
   "outputs": [],
   "source": [
    "import time\n",
    "import concurrent.futures\n",
    "import random\n",
    "\n",
    "def generate_examples_parallel(subject, topic, n_gen):\n",
    "    generated_examples = []\n",
    "    start_time = time.time()\n",
    "\n",
    "    def process_row(row):\n",
    "        prompt = generate_prompt(subject, topic, row)\n",
    "        response = generate_response(prompt)\n",
    "        example = extract_examples(response)\n",
    "        return {\n",
    "            'Subject': subject,\n",
    "            'Topic': topic,\n",
    "            'Example': example,\n",
    "            'Codes': row[0]\n",
    "        }\n",
    "\n",
    "    with concurrent.futures.ThreadPoolExecutor() as executor:\n",
    "        # print(f\"Number of executors: {executor._max_workers}\")\n",
    "        futures = [executor.submit(process_row, random.choice(all_codes_list)) for _ in range(n_gen)]\n",
    "        for future in concurrent.futures.as_completed(futures):\n",
    "            result = future.result()\n",
    "            generated_examples.append(result)\n",
    "\n",
    "    elapsed_time = time.time() - start_time\n",
    "    print(f\"Elapsed time: {elapsed_time:.2f} seconds; {elapsed_time / 60:.2f} minutes for {n_gen} examples\")\n",
    "\n",
    "    return generated_examples\n"
   ]
  },
  {
   "cell_type": "code",
   "execution_count": 12,
   "metadata": {},
   "outputs": [],
   "source": [
    "def convert_to_snake_case(text):\n",
    "    return text.lower().replace(\" \", \"_\")"
   ]
  },
  {
   "cell_type": "code",
   "execution_count": 20,
   "metadata": {},
   "outputs": [
    {
     "name": "stdout",
     "output_type": "stream",
     "text": [
      "Generating examples for Intro to Software Design\n",
      "Elapsed time: 25.65 seconds; 0.43 minutes for 3 examples\n",
      "Saved examples to examples_Intro to Software Design.csv\n",
      "Generating examples for Software Design & Data Structures\n",
      "JSON decoding failed: Invalid \\escape: line 4 column 172 (char 254)\n",
      "Elapsed time: 23.80 seconds; 0.40 minutes for 3 examples\n",
      "Saved examples to examples_Software Design & Data Structures.csv\n",
      "Generating examples for Intro to Problem-Solving for CS\n",
      "JSON decoding failed: Invalid \\escape: line 4 column 487 (char 567)\n",
      "Elapsed time: 26.75 seconds; 0.45 minutes for 3 examples\n",
      "Saved examples to examples_Intro to Problem-Solving for CS.csv\n",
      "Generating examples for Intro to Computer Organization I\n",
      "JSON decoding failed: Invalid \\escape: line 4 column 501 (char 582)\n",
      "Elapsed time: 22.26 seconds; 0.37 minutes for 3 examples\n",
      "Saved examples to examples_Intro to Computer Organization I.csv\n",
      "Generating examples for Intro to Computer Organization II\n",
      "JSON decoding failed: Invalid \\escape: line 4 column 334 (char 416)\n",
      "Elapsed time: 27.54 seconds; 0.46 minutes for 3 examples\n",
      "Saved examples to examples_Intro to Computer Organization II.csv\n",
      "Generating examples for Data Structures and Algorithms\n",
      "JSON decoding failed: Invalid \\escape: line 4 column 251 (char 330)\n",
      "JSON decoding failed: Invalid \\escape: line 4 column 723 (char 802)\n",
      "Elapsed time: 25.18 seconds; 0.42 minutes for 3 examples\n",
      "Saved examples to examples_Data Structures and Algorithms.csv\n",
      "Generating examples for Computer Systems\n",
      "Elapsed time: 23.51 seconds; 0.39 minutes for 3 examples\n",
      "Saved examples to examples_Computer Systems.csv\n",
      "Generating examples for Professionalism in Computing\n",
      "Elapsed time: 22.01 seconds; 0.37 minutes for 3 examples\n",
      "Saved examples to examples_Professionalism in Computing.csv\n",
      "Generating examples for Comparative Languages\n",
      "Elapsed time: 20.73 seconds; 0.35 minutes for 3 examples\n",
      "Saved examples to examples_Comparative Languages.csv\n"
     ]
    }
   ],
   "source": [
    "PARALLEL = True\n",
    "N_GEN = 3\n",
    "SUBJECT = 'Computer Science'\n",
    "\n",
    "for index, row in courses.iterrows():\n",
    "    course = row['Course']\n",
    "    topic_start = course.find(\"–\")\n",
    "    topic = course[topic_start + 1:].strip()\n",
    "    print(f\"Generating examples for {topic}\")\n",
    "    if PARALLEL:\n",
    "        examples = generate_examples_parallel(SUBJECT, topic, N_GEN)\n",
    "    else:\n",
    "        examples = generate_examples_not_parallel(SUBJECT, topic, N_GEN)\n",
    "\n",
    "    examples = pd.DataFrame(examples)\n",
    "    snake_case_topic = convert_to_snake_case(topic)\n",
    "    examples.to_csv(f'./output/examples_{snake_case_topic}.csv', index=False)\n",
    "    print(f\"Saved examples to examples_{snake_case_topic}.csv\")"
   ]
  }
 ],
 "metadata": {
  "kernelspec": {
   "display_name": "base",
   "language": "python",
   "name": "python3"
  },
  "language_info": {
   "codemirror_mode": {
    "name": "ipython",
    "version": 3
   },
   "file_extension": ".py",
   "mimetype": "text/x-python",
   "name": "python",
   "nbconvert_exporter": "python",
   "pygments_lexer": "ipython3",
   "version": "3.11.5"
  }
 },
 "nbformat": 4,
 "nbformat_minor": 2
}
